{
 "cells": [
  {
   "cell_type": "code",
   "execution_count": 16,
   "metadata": {},
   "outputs": [
    {
     "ename": "TypeError",
     "evalue": "VideoWriter_fourcc() missing required argument 'c2' (pos 2)",
     "output_type": "error",
     "traceback": [
      "\u001b[0;31m---------------------------------------------------------------------------\u001b[0m",
      "\u001b[0;31mTypeError\u001b[0m                                 Traceback (most recent call last)",
      "Cell \u001b[0;32mIn[16], line 10\u001b[0m\n\u001b[1;32m      4\u001b[0m fps \u001b[38;5;241m=\u001b[39m video\u001b[38;5;241m.\u001b[39mget(cv2\u001b[38;5;241m.\u001b[39mCAP_PROP_FPS)\n\u001b[1;32m      6\u001b[0m size \u001b[38;5;241m=\u001b[39m (\u001b[38;5;28mint\u001b[39m(video\u001b[38;5;241m.\u001b[39mget(cv2\u001b[38;5;241m.\u001b[39mCAP_PROP_FRAME_WIDTH))\n\u001b[1;32m      7\u001b[0m         ,\u001b[38;5;28mint\u001b[39m(video\u001b[38;5;241m.\u001b[39mget(cv2\u001b[38;5;241m.\u001b[39mCAP_PROP_FRAME_HEIGHT)))\n\u001b[1;32m      9\u001b[0m videoWriter \u001b[38;5;241m=\u001b[39mcv2\u001b[38;5;241m.\u001b[39mVideoWriter(\n\u001b[0;32m---> 10\u001b[0m     \u001b[38;5;124m\"\u001b[39m\u001b[38;5;124moutput_demo2.mp4\u001b[39m\u001b[38;5;124m\"\u001b[39m,\u001b[43mcv2\u001b[49m\u001b[38;5;241;43m.\u001b[39;49m\u001b[43mVideoWriter_fourcc\u001b[49m\u001b[43m(\u001b[49m\u001b[38;5;124;43m'\u001b[39;49m\u001b[38;5;124;43mmp4v\u001b[39;49m\u001b[38;5;124;43m'\u001b[39;49m\u001b[43m)\u001b[49m,fps,size\n\u001b[1;32m     11\u001b[0m )\n\u001b[1;32m     13\u001b[0m success,frame \u001b[38;5;241m=\u001b[39m video\u001b[38;5;241m.\u001b[39mread()\n\u001b[1;32m     14\u001b[0m \u001b[38;5;28;01mwhile\u001b[39;00m success:\n",
      "\u001b[0;31mTypeError\u001b[0m: VideoWriter_fourcc() missing required argument 'c2' (pos 2)"
     ]
    }
   ],
   "source": [
    "import cv2\n",
    "\n",
    "video = cv2.VideoCapture(\"demo2.avi\")\n",
    "fps = video.get(cv2.CAP_PROP_FPS)\n",
    "\n",
    "size = (int(video.get(cv2.CAP_PROP_FRAME_WIDTH))\n",
    "        ,int(video.get(cv2.CAP_PROP_FRAME_HEIGHT)))\n",
    "\n",
    "videoWriter =cv2.VideoWriter(\n",
    "    \"output_demo2.mp4\",cv2.VideoWriter_fourcc('mp4v'),fps,size\n",
    ")\n",
    "\n",
    "success,frame = video.read()\n",
    "while success:\n",
    "    videoWriter.write(frame)\n",
    "    success,frame = video.read()\n",
    "\n",
    "video.release()\n",
    "videoWriter.release()"
   ]
  },
  {
   "cell_type": "code",
   "execution_count": 28,
   "metadata": {},
   "outputs": [
    {
     "name": "stdout",
     "output_type": "stream",
     "text": [
      "Video recording complete. Output saved as 'output_camera111.mp4'.\n"
     ]
    }
   ],
   "source": [
    "import cv2\n",
    "\n",
    "camera = cv2.VideoCapture(0)\n",
    "\n",
    "fps = 30 # 帧率\n",
    "size = (int(camera.get(cv2.CAP_PROP_FRAME_WIDTH)),\n",
    "        int(camera.get(cv2.CAP_PROP_FRAME_HEIGHT)))\n",
    "videoWriter = cv2.VideoWriter(\"output_camera.mp4\",\n",
    "                              cv2.VideoWriter_fourcc(*'mp4v'),\n",
    "                              fps,size)\n",
    "\n",
    "success,frame = camera.read()\n",
    "\n",
    "numframesremaing = 10*fps - 1 # 10秒的帧数\n",
    "while success and numframesremaing > 0:\n",
    "    videoWriter.write(frame)\n",
    "    success,frame = camera.read()\n",
    "    numframesremaing -= 1\n",
    "\n",
    "camera.release()\n",
    "videoWriter.release()\n",
    "\n",
    "print(\"Video recording complete. Output saved as 'output_camera111.mp4'.\")\n",
    "\n",
    "\n",
    "\n"
   ]
  },
  {
   "cell_type": "code",
   "execution_count": 2,
   "metadata": {},
   "outputs": [
    {
     "name": "stdout",
     "output_type": "stream",
     "text": [
      "showing camera feed, click window or press any key to exit\n"
     ]
    },
    {
     "ename": "AttributeError",
     "evalue": "module 'cv2' has no attribute 'destroyWindows'",
     "output_type": "error",
     "traceback": [
      "\u001b[0;31m---------------------------------------------------------------------------\u001b[0m",
      "\u001b[0;31mAttributeError\u001b[0m                            Traceback (most recent call last)",
      "Cell \u001b[0;32mIn[2], line 20\u001b[0m\n\u001b[1;32m     17\u001b[0m     cv2\u001b[38;5;241m.\u001b[39mimshow(\u001b[38;5;124m'\u001b[39m\u001b[38;5;124mMyWindow\u001b[39m\u001b[38;5;124m'\u001b[39m,frame)\n\u001b[1;32m     18\u001b[0m     success,frame \u001b[38;5;241m=\u001b[39m cameraCapture\u001b[38;5;241m.\u001b[39mread()\n\u001b[0;32m---> 20\u001b[0m \u001b[43mcv2\u001b[49m\u001b[38;5;241;43m.\u001b[39;49m\u001b[43mdestroyWindows\u001b[49m(\u001b[38;5;124m'\u001b[39m\u001b[38;5;124mMyWindow\u001b[39m\u001b[38;5;124m'\u001b[39m)\n\u001b[1;32m     21\u001b[0m cameraCapture\u001b[38;5;241m.\u001b[39mrelease()\n",
      "\u001b[0;31mAttributeError\u001b[0m: module 'cv2' has no attribute 'destroyWindows'"
     ]
    },
    {
     "ename": "",
     "evalue": "",
     "output_type": "error",
     "traceback": [
      "\u001b[1;31m在当前单元格或上一个单元格中执行代码时 Kernel 崩溃。\n",
      "\u001b[1;31m请查看单元格中的代码，以确定故障的可能原因。\n",
      "\u001b[1;31m单击<a href='https://aka.ms/vscodeJupyterKernelCrash'>此处</a>了解详细信息。\n",
      "\u001b[1;31m有关更多详细信息，请查看 Jupyter <a href='command:jupyter.viewOutput'>log</a>。"
     ]
    }
   ],
   "source": [
    "import cv2\n",
    "\n",
    "clicked = False\n",
    "def onMouse(event,x,y,flags,param):\n",
    "    global clicked\n",
    "    if event == cv2.EVENT_LBUTTONDOWN:\n",
    "        clicked = True\n",
    "\n",
    "cameraCapture = cv2.VideoCapture(0)\n",
    "\n",
    "cv2.namedWindow('MyWindow')\n",
    "cv2.setMouseCallback('MyWindow',onMouse)\n",
    "\n",
    "print ('showing camera feed, click window or press any key to exit')\n",
    "success,frame = cameraCapture.read()\n",
    "while success and cv2.waitKey(1) == -1 and not clicked:\n",
    "    cv2.imshow('MyWindow',frame)\n",
    "    success,frame = cameraCapture.read()\n",
    "\n",
    "cv2.destroyWindows('MyWindow')\n",
    "cameraCapture.release()\n",
    "\n",
    "    \n"
   ]
  },
  {
   "cell_type": "code",
   "execution_count": null,
   "metadata": {},
   "outputs": [],
   "source": []
  }
 ],
 "metadata": {
  "kernelspec": {
   "display_name": "Python 3",
   "language": "python",
   "name": "python3"
  },
  "language_info": {
   "codemirror_mode": {
    "name": "ipython",
    "version": 3
   },
   "file_extension": ".py",
   "mimetype": "text/x-python",
   "name": "python",
   "nbconvert_exporter": "python",
   "pygments_lexer": "ipython3",
   "version": "3.12.4"
  }
 },
 "nbformat": 4,
 "nbformat_minor": 2
}
