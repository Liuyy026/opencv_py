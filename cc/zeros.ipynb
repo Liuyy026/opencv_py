{
 "cells": [
  {
   "cell_type": "code",
   "execution_count": 14,
   "metadata": {},
   "outputs": [
    {
     "name": "stdout",
     "output_type": "stream",
     "text": [
      "(5, 3)\n"
     ]
    }
   ],
   "source": [
    "import cv2\n",
    "import numpy \n",
    "import os\n",
    "\n",
    "img = numpy.zeros((5,3),dtype=numpy.uint8)\n",
    "#img = cv2.cvtColor(img, cv2.COLOR_BGR2RGB)\n",
    "print(img.shape)"
   ]
  },
  {
   "cell_type": "code",
   "execution_count": 12,
   "metadata": {},
   "outputs": [
    {
     "data": {
      "text/plain": [
       "True"
      ]
     },
     "execution_count": 12,
     "metadata": {},
     "output_type": "execute_result"
    }
   ],
   "source": [
    "import cv2\n",
    "import numpy\n",
    "import os\n",
    "image = cv2.imread(\"下载.jpeg\",cv2.IMREAD_GRAYSCALE)\n",
    "cv2.imwrite(\"下载.png\", image)"
   ]
  },
  {
   "cell_type": "code",
   "execution_count": 6,
   "metadata": {},
   "outputs": [
    {
     "data": {
      "text/plain": [
       "True"
      ]
     },
     "execution_count": 6,
     "metadata": {},
     "output_type": "execute_result"
    }
   ],
   "source": [
    "import cv2 \n",
    "import numpy\n",
    "import os\n",
    "#Make an array of 120,000 random bytes\n",
    "randomByteArray = bytearray(os.urandom(120000))\n",
    "flatNumpyArray = numpy.array(randomByteArray)\n",
    "\n",
    "#convert the array to make a 400x300 garyscale image\n",
    "grayImage = flatNumpyArray.reshape(300,400)\n",
    "cv2.imwrite('RandomGray.png',grayImage)\n",
    "\n",
    "#convert the array to make a 400x100 color of image\n",
    "bgrImage = flatNumpyArray.reshape(100,400,3)\n",
    "cv2.imwrite('randomcolor.png',bgrImage)"
   ]
  }
 ],
 "metadata": {
  "kernelspec": {
   "display_name": "Python 3",
   "language": "python",
   "name": "python3"
  },
  "language_info": {
   "codemirror_mode": {
    "name": "ipython",
    "version": 3
   },
   "file_extension": ".py",
   "mimetype": "text/x-python",
   "name": "python",
   "nbconvert_exporter": "python",
   "pygments_lexer": "ipython3",
   "version": "3.11.5"
  }
 },
 "nbformat": 4,
 "nbformat_minor": 2
}
